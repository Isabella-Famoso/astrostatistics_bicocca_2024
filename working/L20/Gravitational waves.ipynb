{
 "cells": [
  {
   "cell_type": "markdown",
   "id": "57786915-4a8f-4be0-831b-daf80617a7c6",
   "metadata": {},
   "source": [
    "# Gravitational waves detection"
   ]
  },
  {
   "cell_type": "markdown",
   "id": "828904fc-0a96-4826-b29e-1395882ba201",
   "metadata": {},
   "source": [
    "All experiments have selection effects. Some sources are easier to detect than others which distorts the population of sources we observe (this crucial in astronomy! Surveys are typically flux limited). In order to decided if a feature in the observed population of objects is telling us something new about reality, we need to understand and model our selection effects (for instance: it would be wrong to say that all stars are close by just because we can't observe those that are very far!). \n",
    " \n",
    "**The goal here is to machine-learn the LIGO detectability: can we *predict* if a gravitational-wave source will be detected?**  \n",
    "\n",
    "[This dataset](https://github.com/dgerosa/pdetclassifier/releases/download/v0.2/sample_2e7_design_precessing_higherordermodes_3detectors.h5) contains simulated gravitational-wave signals from merging black holes (careful the file size is >1 GB). You can read this data format with `h5py`.\n",
    "\n",
    "In particular, each source has the following features:\n",
    "- `mtot`: the total mass of the binary\n",
    "- `q`: the mass ratio\n",
    "- `chi1x`, `chi1y`, `chi1z`, `chi2x`, `chi2y`, `chi2z`: the components of the black-hole spins in a suitable reference frame.\n",
    "- `ra`, `dec`: the location of the source in the sky\n",
    "- `iota`: the inclination of the orbital plane'\n",
    "- `psi`: the polarization angle (gravitational waves have two polarization states much like light)\n",
    "- `z`: the redshift\n",
    "\n",
    "The detectability is defined using the `snr` (signal-to-noise ratio) computed with a state-of-the-art model of the LIGO/Virgo detector network. Some (many?) of you will have studied this in Sesana's gravitational-wave course; [see here](https://arxiv.org/abs/1908.11170) for a nice write-up. All you need to know now is that we threshold the `snr` values and assume that LIGO will (not) see a source if `snr`>12 (`snr`<12). The resulting 0-1 labels are reported in the `det` attribute in the dataset.\n",
    "\n",
    "Today's task is to train a classifier (you decide which one!) and separate sources that are detectables from those that aren't. \n",
    "\n",
    "Be creative! This is a challenge! Let's see who gets the  higher completeness and/or the smaller contamination (on a validation set, of course! Careful with overfitting here!).\n",
    "\n",
    "*Tips*:\n",
    "- You can downsample the data for debugging purposes\n",
    "- You can also use only some of the features. By experience, the most important ones are those involving masses and redshift.\n",
    "\n"
   ]
  },
  {
   "cell_type": "code",
   "execution_count": 1,
   "id": "9493a0bd-7345-429a-8c98-913e3f089b9c",
   "metadata": {},
   "outputs": [],
   "source": [
    "import numpy as np\n",
    "import matplotlib.pyplot as plt\n",
    "import h5py\n",
    "from sklearn.tree import DecisionTreeClassifier\n",
    "from sklearn.ensemble import BaggingClassifier\n",
    "from sklearn.model_selection import KFold, cross_validate, train_test_split, GridSearchCV\n",
    "from sklearn.metrics import precision_score, recall_score, accuracy_score, confusion_matrix, precision_recall_curve, roc_curve\n",
    "import pandas as pd\n",
    "from IPython.display import display, Markdown\n",
    "from sklearn.ensemble import RandomForestClassifier\n",
    "from tqdm.notebook import tqdm"
   ]
  },
  {
   "cell_type": "markdown",
   "id": "42442ea2-35d2-4365-a1ce-fb9ef9b07736",
   "metadata": {},
   "source": [
    "## Data reading"
   ]
  },
  {
   "cell_type": "code",
   "execution_count": 4,
   "id": "b99d0957-56de-4c66-8212-ea754fb16be9",
   "metadata": {},
   "outputs": [],
   "source": [
    "filename = \"C:/Users/ISAFA/Desktop/sample_2e7_design_precessing_higherordermodes_3detectors.h5\"\n",
    "f = h5py.File(filename)\n",
    "\n",
    "N=int(1e5) #Number of data that I take\n",
    "\n",
    "data=[]\n",
    "for i in ['chi1x', 'chi1y', 'chi1z', 'chi2x', 'chi2y', 'chi2z', 'dec', 'iota', 'mtot', 'psi', 'q', 'ra','z']:\n",
    "    data.append(f[i][:N])\n",
    "    \n",
    "data = np.array(data).T\n",
    "\n",
    "detect = np.array(f['det'][:N]) #The source is detected or not? 0=no, 1=yes"
   ]
  },
  {
   "cell_type": "code",
   "execution_count": 5,
   "id": "242901b1-7622-4e62-8439-5ea4565d6f70",
   "metadata": {},
   "outputs": [
    {
     "data": {
      "text/plain": [
       "(100000, 13)"
      ]
     },
     "execution_count": 5,
     "metadata": {},
     "output_type": "execute_result"
    }
   ],
   "source": [
    "data.shape"
   ]
  },
  {
   "cell_type": "code",
   "execution_count": 6,
   "id": "d0eef634-d7bf-43ab-9c91-ce317f189348",
   "metadata": {},
   "outputs": [
    {
     "name": "stdout",
     "output_type": "stream",
     "text": [
      "The detected sources are: 14382\n",
      "The sources not detected are: 85618\n"
     ]
    }
   ],
   "source": [
    "no=0\n",
    "yes=0\n",
    "\n",
    "for i in detect:    \n",
    "    if i==0:\n",
    "        no += 1\n",
    "    else:\n",
    "        yes += 1\n",
    "        \n",
    "print('The detected sources are:', yes)\n",
    "print('The sources not detected are:', no)"
   ]
  },
  {
   "cell_type": "markdown",
   "id": "e1ecd769-6a41-4b45-a1c8-ff071e191bce",
   "metadata": {},
   "source": [
    "## Split the data in train and test"
   ]
  },
  {
   "cell_type": "code",
   "execution_count": 7,
   "id": "dd9bde23-296e-48f3-a8d2-b16699781419",
   "metadata": {},
   "outputs": [],
   "source": [
    "Data_train, Data_test, Detect_train, Detect_test = train_test_split(data, detect, test_size=0.25, random_state=0)"
   ]
  },
  {
   "cell_type": "markdown",
   "id": "8ab9e4d3-89ba-44bc-80a5-00dfe3731aab",
   "metadata": {},
   "source": [
    "## Decision tree"
   ]
  },
  {
   "cell_type": "markdown",
   "id": "be42c13d-4cfc-4723-becd-9d7dea4a9dca",
   "metadata": {},
   "source": [
    "Decision trees requires a max_depth parameter to impose. We can choose it through cross-validation. We split the train dataset to leave the test one for the final test."
   ]
  },
  {
   "cell_type": "code",
   "execution_count": 9,
   "id": "69b26683-7ab2-4bf7-b5b2-f8ee9d3ae4f1",
   "metadata": {},
   "outputs": [
    {
     "data": {
      "application/vnd.jupyter.widget-view+json": {
       "model_id": "b168b546981a405f9e30f1c306a24941",
       "version_major": 2,
       "version_minor": 0
      },
      "text/plain": [
       "0it [00:00, ?it/s]"
      ]
     },
     "metadata": {},
     "output_type": "display_data"
    }
   ],
   "source": [
    "n = 10 #Number of splits\n",
    "depths = np.arange(1, 16, dtype=int)\n",
    "\n",
    "accuracy_cv_array = np.empty(len(depths))\n",
    "precision_cv_array = np.empty(len(depths))\n",
    "completeness_cv_array = np.empty(len(depths))\n",
    "\n",
    "kf = KFold(n_splits=n, shuffle=True, random_state=123)     #Create the indexes for the split in train and test data\n",
    "                                                               #With random_state fixed we have always the same split, so data are reproducible  \n",
    "for i, depth in tqdm(enumerate(depths)):\n",
    "    \n",
    "    accuracy = []\n",
    "    precision = []\n",
    "    completeness = []\n",
    "    \n",
    "    for (train_index, test_index) in kf.split(Data_train): #Divide the redshifts data in the folds\n",
    "        data_train, data_test = Data_train[train_index], Data_train[test_index]\n",
    "        detect_train, detect_test = Detect_train[train_index], Detect_train[test_index]\n",
    "    \n",
    "        dtree = DecisionTreeClassifier(max_depth=depth)\n",
    "        dtree.fit(data_train, detect_train)\n",
    "        detect_pred = dtree.predict(data_test)\n",
    "        \n",
    "        accuracy.append(accuracy_score(detect_test, detect_pred))\n",
    "        precision.append(precision_score(detect_test, detect_pred))\n",
    "        completeness.append(recall_score(detect_test, detect_pred))\n",
    "\n",
    "    accuracy_cv_array[i] = np.mean(accuracy)\n",
    "    precision_cv_array[i] = np.mean(precision)\n",
    "    completeness_cv_array[i] = np.mean(completeness)       "
   ]
  },
  {
   "cell_type": "markdown",
   "id": "6d1eb3c8-f3af-4f24-838d-5f868420ea45",
   "metadata": {},
   "source": [
    "Now we plot the results:"
   ]
  },
  {
   "cell_type": "code",
   "execution_count": 10,
   "id": "bdc1eda8-6139-4160-b2f7-cd331fe9b50b",
   "metadata": {},
   "outputs": [
    {
     "data": {
      "text/html": [
       "<div>\n",
       "<style scoped>\n",
       "    .dataframe tbody tr th:only-of-type {\n",
       "        vertical-align: middle;\n",
       "    }\n",
       "\n",
       "    .dataframe tbody tr th {\n",
       "        vertical-align: top;\n",
       "    }\n",
       "\n",
       "    .dataframe thead th {\n",
       "        text-align: right;\n",
       "    }\n",
       "</style>\n",
       "<table border=\"1\" class=\"dataframe\">\n",
       "  <thead>\n",
       "    <tr style=\"text-align: right;\">\n",
       "      <th></th>\n",
       "      <th>Depth</th>\n",
       "      <th>Accuracy</th>\n",
       "      <th>Precision</th>\n",
       "      <th>Completeness</th>\n",
       "    </tr>\n",
       "  </thead>\n",
       "  <tbody>\n",
       "    <tr>\n",
       "      <th>0</th>\n",
       "      <td>1</td>\n",
       "      <td>0.932147</td>\n",
       "      <td>0.738625</td>\n",
       "      <td>0.815610</td>\n",
       "    </tr>\n",
       "    <tr>\n",
       "      <th>1</th>\n",
       "      <td>2</td>\n",
       "      <td>0.932147</td>\n",
       "      <td>0.738625</td>\n",
       "      <td>0.815610</td>\n",
       "    </tr>\n",
       "    <tr>\n",
       "      <th>2</th>\n",
       "      <td>3</td>\n",
       "      <td>0.939507</td>\n",
       "      <td>0.782521</td>\n",
       "      <td>0.800820</td>\n",
       "    </tr>\n",
       "    <tr>\n",
       "      <th>3</th>\n",
       "      <td>4</td>\n",
       "      <td>0.946600</td>\n",
       "      <td>0.812971</td>\n",
       "      <td>0.814993</td>\n",
       "    </tr>\n",
       "    <tr>\n",
       "      <th>4</th>\n",
       "      <td>5</td>\n",
       "      <td>0.950520</td>\n",
       "      <td>0.831116</td>\n",
       "      <td>0.822144</td>\n",
       "    </tr>\n",
       "    <tr>\n",
       "      <th>5</th>\n",
       "      <td>6</td>\n",
       "      <td>0.952827</td>\n",
       "      <td>0.826678</td>\n",
       "      <td>0.848908</td>\n",
       "    </tr>\n",
       "    <tr>\n",
       "      <th>6</th>\n",
       "      <td>7</td>\n",
       "      <td>0.956507</td>\n",
       "      <td>0.868746</td>\n",
       "      <td>0.821354</td>\n",
       "    </tr>\n",
       "    <tr>\n",
       "      <th>7</th>\n",
       "      <td>8</td>\n",
       "      <td>0.957467</td>\n",
       "      <td>0.855486</td>\n",
       "      <td>0.846406</td>\n",
       "    </tr>\n",
       "    <tr>\n",
       "      <th>8</th>\n",
       "      <td>9</td>\n",
       "      <td>0.957027</td>\n",
       "      <td>0.858500</td>\n",
       "      <td>0.838464</td>\n",
       "    </tr>\n",
       "    <tr>\n",
       "      <th>9</th>\n",
       "      <td>10</td>\n",
       "      <td>0.956053</td>\n",
       "      <td>0.851991</td>\n",
       "      <td>0.839280</td>\n",
       "    </tr>\n",
       "    <tr>\n",
       "      <th>10</th>\n",
       "      <td>11</td>\n",
       "      <td>0.955600</td>\n",
       "      <td>0.849074</td>\n",
       "      <td>0.839548</td>\n",
       "    </tr>\n",
       "    <tr>\n",
       "      <th>11</th>\n",
       "      <td>12</td>\n",
       "      <td>0.954480</td>\n",
       "      <td>0.844223</td>\n",
       "      <td>0.837036</td>\n",
       "    </tr>\n",
       "    <tr>\n",
       "      <th>12</th>\n",
       "      <td>13</td>\n",
       "      <td>0.952907</td>\n",
       "      <td>0.838611</td>\n",
       "      <td>0.831613</td>\n",
       "    </tr>\n",
       "    <tr>\n",
       "      <th>13</th>\n",
       "      <td>14</td>\n",
       "      <td>0.952387</td>\n",
       "      <td>0.836461</td>\n",
       "      <td>0.830290</td>\n",
       "    </tr>\n",
       "    <tr>\n",
       "      <th>14</th>\n",
       "      <td>15</td>\n",
       "      <td>0.951853</td>\n",
       "      <td>0.834992</td>\n",
       "      <td>0.827926</td>\n",
       "    </tr>\n",
       "  </tbody>\n",
       "</table>\n",
       "</div>"
      ],
      "text/plain": [
       "    Depth  Accuracy  Precision  Completeness\n",
       "0       1  0.932147   0.738625      0.815610\n",
       "1       2  0.932147   0.738625      0.815610\n",
       "2       3  0.939507   0.782521      0.800820\n",
       "3       4  0.946600   0.812971      0.814993\n",
       "4       5  0.950520   0.831116      0.822144\n",
       "5       6  0.952827   0.826678      0.848908\n",
       "6       7  0.956507   0.868746      0.821354\n",
       "7       8  0.957467   0.855486      0.846406\n",
       "8       9  0.957027   0.858500      0.838464\n",
       "9      10  0.956053   0.851991      0.839280\n",
       "10     11  0.955600   0.849074      0.839548\n",
       "11     12  0.954480   0.844223      0.837036\n",
       "12     13  0.952907   0.838611      0.831613\n",
       "13     14  0.952387   0.836461      0.830290\n",
       "14     15  0.951853   0.834992      0.827926"
      ]
     },
     "metadata": {},
     "output_type": "display_data"
    }
   ],
   "source": [
    "data = {\n",
    "    'Depth': depths,\n",
    "    'Accuracy': accuracy_cv_array,\n",
    "    'Precision': precision_cv_array,\n",
    "    'Completeness':completeness_cv_array,\n",
    "}\n",
    "df = pd.DataFrame(data)\n",
    "display(df)"
   ]
  },
  {
   "cell_type": "code",
   "execution_count": 11,
   "id": "239f7996-a8b8-4cff-9ecc-e5015e6f41c9",
   "metadata": {},
   "outputs": [
    {
     "data": {
      "text/plain": [
       "<matplotlib.legend.Legend at 0x1e91ebc4750>"
      ]
     },
     "execution_count": 11,
     "metadata": {},
     "output_type": "execute_result"
    },
    {
     "data": {
      "image/png": "[encoded data removed]",
      "text/plain": [
       "<Figure size 800x600 with 1 Axes>"
      ]
     },
     "metadata": {},
     "output_type": "display_data"
    }
   ],
   "source": [
    "fig = plt.figure(figsize=(8,6))\n",
    "ax = fig.gca()\n",
    "ax.grid(c='grey', alpha = 0.2)\n",
    "ax.set_title('Accuracy, Precision and Completeness')\n",
    "ax.set_xlabel('Depth')\n",
    "ax.plot(depths, accuracy_cv_array, label = 'Accuracy', marker = 'o', lw = 1)\n",
    "ax.plot(depths, precision_cv_array, label = 'Precision', marker = 'o', lw = 1)\n",
    "ax.plot(depths, completeness_cv_array, label = 'Completeness', marker = 'o', lw = 1)\n",
    "ax.legend()"
   ]
  },
  {
   "cell_type": "markdown",
   "id": "b3cb03fa-c430-41f8-9407-658212785a8c",
   "metadata": {},
   "source": [
    "The accuracy is the proportion of total predictions that were correct, the completeness is the rate of true positive and the precision is one minus the false discovery rate (contamination). Depending on the request, we require to maximaze one of these or a combination of them."
   ]
  },
  {
   "cell_type": "code",
   "execution_count": 12,
   "id": "5a2a67cd-bed8-4478-9157-b9b869046056",
   "metadata": {},
   "outputs": [
    {
     "name": "stdout",
     "output_type": "stream",
     "text": [
      "The best accuracy is for a depth = 8\n",
      "The best precision is for a depth = 7\n",
      "The best completeness is for a depth = 6\n"
     ]
    }
   ],
   "source": [
    "best_acc = np.argmax(accuracy_cv_array)\n",
    "best_prec = np.argmax(precision_cv_array)\n",
    "best_comp = np.argmax(completeness_cv_array)\n",
    "print('The best accuracy is for a depth =', best_acc+1)\n",
    "print('The best precision is for a depth =', best_prec+1)\n",
    "print('The best completeness is for a depth =', best_comp+1)"
   ]
  },
  {
   "cell_type": "markdown",
   "id": "7dfbcce6-46a2-4856-86d7-53458ea005a3",
   "metadata": {},
   "source": [
    "We can try another cross validation method through GridSearchCV."
   ]
  },
  {
   "cell_type": "code",
   "execution_count": 24,
   "id": "442489c9-e12c-4530-b778-447d1a5fd775",
   "metadata": {},
   "outputs": [
    {
     "name": "stdout",
     "output_type": "stream",
     "text": [
      "best parameter choice: 8\n"
     ]
    }
   ],
   "source": [
    "dtree = DecisionTreeClassifier()\n",
    "drange = np.arange(1, 16)  \n",
    "\n",
    "grid = GridSearchCV(dtree, param_grid={'max_depth': drange}, cv=5) \n",
    "grid.fit(Data_train, Detect_train)\n",
    "\n",
    "best = grid.best_params_['max_depth']\n",
    "print(\"best parameter choice:\", best)"
   ]
  },
  {
   "cell_type": "markdown",
   "id": "ea3a19c2-a811-4efc-bbcd-532ac7a69564",
   "metadata": {},
   "source": [
    "We can try the method with 6, 7 and 8 depths."
   ]
  },
  {
   "cell_type": "code",
   "execution_count": 26,
   "id": "37960b1e-9d74-42fa-bd0d-1de51967b78e",
   "metadata": {},
   "outputs": [],
   "source": [
    "best_depths=[6, 7, 8]\n",
    "    \n",
    "accuracy_dtree_train = np.empty(3)\n",
    "precision_dtree_train = np.empty(3)\n",
    "completeness_dtree_train = np.empty(3)\n",
    "contamination_dtree_train = np.empty(3)\n",
    "confusion_matrix_train = np.empty(4)\n",
    "tn_train_dtree = np.empty(3) \n",
    "fp_train_dtree = np.empty(3) \n",
    "fn_train_dtree = np.empty(3) \n",
    "tp_train_dtree = np.empty(3)\n",
    "\n",
    "accuracy_dtree_test = np.empty(3)\n",
    "precision_dtree_test = np.empty(3)\n",
    "completeness_dtree_test = np.empty(3)\n",
    "contamination_dtree_test = np.empty(3)\n",
    "confusion_matrix_test = np.empty(3)\n",
    "tn_test_dtree = np.empty(3) \n",
    "fp_test_dtree = np.empty(3) \n",
    "fn_test_dtree = np.empty(3) \n",
    "tp_test_dtree = np.empty(3)\n",
    "\n",
    "for i in range(len(best_depths)):\n",
    "    dtree = DecisionTreeClassifier(max_depth=best_depths[i], random_state=123)\n",
    "    dtree.fit(Data_train, Detect_train)\n",
    "    Detect_pred_test = dtree.predict(Data_test)\n",
    "    Detect_pred_train = dtree.predict(Data_train)\n",
    "\n",
    "    accuracy_dtree_test[i] = accuracy_score(Detect_test, Detect_pred_test)\n",
    "    precision_dtree_test[i] = precision_score(Detect_test, Detect_pred_test)\n",
    "    completeness_dtree_test[i] = recall_score(Detect_test, Detect_pred_test)\n",
    "    contamination_dtree_test[i] = 1- precision_score(Detect_test, Detect_pred_test)\n",
    "    conf_matrix_test = confusion_matrix(Detect_test, Detect_pred_test)\n",
    "    tn_test_dtree[i], fp_test_dtree[i], fn_test_dtree[i], tp_test_dtree[i] = conf_matrix_test.ravel()\n",
    "\n",
    "    accuracy_dtree_train[i] = accuracy_score(Detect_train, Detect_pred_train)\n",
    "    precision_dtree_train[i] = precision_score(Detect_train, Detect_pred_train)\n",
    "    completeness_dtree_train[i] = recall_score(Detect_train, Detect_pred_train)\n",
    "    contamination_dtree_train[i] = 1- precision_score(Detect_train, Detect_pred_train)\n",
    "    conf_matrix_train = confusion_matrix(Detect_train, Detect_pred_train)\n",
    "    tn_train_dtree[i], fp_train_dtree[i], fn_train_dtree[i], tp_train_dtree[i] = conf_matrix_train.ravel()\n",
    "    "
   ]
  },
  {
   "cell_type": "code",
   "execution_count": 27,
   "id": "996b77f5-3db0-4dbc-8e30-b736205d203b",
   "metadata": {
    "scrolled": true
   },
   "outputs": [
    {
     "data": {
      "text/markdown": [
       "### Results of decision tree classification on train dataset:"
      ],
      "text/plain": [
       "<IPython.core.display.Markdown object>"
      ]
     },
     "metadata": {},
     "output_type": "display_data"
    },
    {
     "data": {
      "text/html": [
       "<div>\n",
       "<style scoped>\n",
       "    .dataframe tbody tr th:only-of-type {\n",
       "        vertical-align: middle;\n",
       "    }\n",
       "\n",
       "    .dataframe tbody tr th {\n",
       "        vertical-align: top;\n",
       "    }\n",
       "\n",
       "    .dataframe thead th {\n",
       "        text-align: right;\n",
       "    }\n",
       "</style>\n",
       "<table border=\"1\" class=\"dataframe\">\n",
       "  <thead>\n",
       "    <tr style=\"text-align: right;\">\n",
       "      <th></th>\n",
       "      <th>Depth</th>\n",
       "      <th>Accuracy</th>\n",
       "      <th>Precision</th>\n",
       "      <th>Completeness</th>\n",
       "      <th>Contamination</th>\n",
       "      <th>True positives</th>\n",
       "      <th>False positives</th>\n",
       "      <th>False negatives</th>\n",
       "      <th>True negatives</th>\n",
       "    </tr>\n",
       "  </thead>\n",
       "  <tbody>\n",
       "    <tr>\n",
       "      <th>0</th>\n",
       "      <td>6</td>\n",
       "      <td>0.96</td>\n",
       "      <td>0.83</td>\n",
       "      <td>0.87</td>\n",
       "      <td>0.17</td>\n",
       "      <td>9370.0</td>\n",
       "      <td>1875.0</td>\n",
       "      <td>1378.0</td>\n",
       "      <td>62377.0</td>\n",
       "    </tr>\n",
       "    <tr>\n",
       "      <th>1</th>\n",
       "      <td>7</td>\n",
       "      <td>0.96</td>\n",
       "      <td>0.89</td>\n",
       "      <td>0.84</td>\n",
       "      <td>0.11</td>\n",
       "      <td>9058.0</td>\n",
       "      <td>1125.0</td>\n",
       "      <td>1690.0</td>\n",
       "      <td>63127.0</td>\n",
       "    </tr>\n",
       "    <tr>\n",
       "      <th>2</th>\n",
       "      <td>8</td>\n",
       "      <td>0.97</td>\n",
       "      <td>0.89</td>\n",
       "      <td>0.88</td>\n",
       "      <td>0.11</td>\n",
       "      <td>9436.0</td>\n",
       "      <td>1212.0</td>\n",
       "      <td>1312.0</td>\n",
       "      <td>63040.0</td>\n",
       "    </tr>\n",
       "  </tbody>\n",
       "</table>\n",
       "</div>"
      ],
      "text/plain": [
       "   Depth  Accuracy  Precision  Completeness  Contamination  True positives  \\\n",
       "0      6      0.96       0.83          0.87           0.17          9370.0   \n",
       "1      7      0.96       0.89          0.84           0.11          9058.0   \n",
       "2      8      0.97       0.89          0.88           0.11          9436.0   \n",
       "\n",
       "   False positives  False negatives  True negatives  \n",
       "0           1875.0           1378.0         62377.0  \n",
       "1           1125.0           1690.0         63127.0  \n",
       "2           1212.0           1312.0         63040.0  "
      ]
     },
     "metadata": {},
     "output_type": "display_data"
    },
    {
     "data": {
      "text/markdown": [
       "### Results of decision tree classification on test dataset:"
      ],
      "text/plain": [
       "<IPython.core.display.Markdown object>"
      ]
     },
     "metadata": {},
     "output_type": "display_data"
    },
    {
     "data": {
      "text/html": [
       "<div>\n",
       "<style scoped>\n",
       "    .dataframe tbody tr th:only-of-type {\n",
       "        vertical-align: middle;\n",
       "    }\n",
       "\n",
       "    .dataframe tbody tr th {\n",
       "        vertical-align: top;\n",
       "    }\n",
       "\n",
       "    .dataframe thead th {\n",
       "        text-align: right;\n",
       "    }\n",
       "</style>\n",
       "<table border=\"1\" class=\"dataframe\">\n",
       "  <thead>\n",
       "    <tr style=\"text-align: right;\">\n",
       "      <th></th>\n",
       "      <th>Depth</th>\n",
       "      <th>Accuracy</th>\n",
       "      <th>Precision</th>\n",
       "      <th>Completeness</th>\n",
       "      <th>Contamination</th>\n",
       "      <th>True positives</th>\n",
       "      <th>False positives</th>\n",
       "      <th>False negatives</th>\n",
       "      <th>True negatives</th>\n",
       "    </tr>\n",
       "  </thead>\n",
       "  <tbody>\n",
       "    <tr>\n",
       "      <th>0</th>\n",
       "      <td>6</td>\n",
       "      <td>0.95</td>\n",
       "      <td>0.82</td>\n",
       "      <td>0.86</td>\n",
       "      <td>0.18</td>\n",
       "      <td>3118.0</td>\n",
       "      <td>671.0</td>\n",
       "      <td>516.0</td>\n",
       "      <td>20695.0</td>\n",
       "    </tr>\n",
       "    <tr>\n",
       "      <th>1</th>\n",
       "      <td>7</td>\n",
       "      <td>0.96</td>\n",
       "      <td>0.87</td>\n",
       "      <td>0.81</td>\n",
       "      <td>0.13</td>\n",
       "      <td>2959.0</td>\n",
       "      <td>441.0</td>\n",
       "      <td>675.0</td>\n",
       "      <td>20925.0</td>\n",
       "    </tr>\n",
       "    <tr>\n",
       "      <th>2</th>\n",
       "      <td>8</td>\n",
       "      <td>0.96</td>\n",
       "      <td>0.85</td>\n",
       "      <td>0.84</td>\n",
       "      <td>0.15</td>\n",
       "      <td>3059.0</td>\n",
       "      <td>521.0</td>\n",
       "      <td>575.0</td>\n",
       "      <td>20845.0</td>\n",
       "    </tr>\n",
       "  </tbody>\n",
       "</table>\n",
       "</div>"
      ],
      "text/plain": [
       "   Depth  Accuracy  Precision  Completeness  Contamination  True positives  \\\n",
       "0      6      0.95       0.82          0.86           0.18          3118.0   \n",
       "1      7      0.96       0.87          0.81           0.13          2959.0   \n",
       "2      8      0.96       0.85          0.84           0.15          3059.0   \n",
       "\n",
       "   False positives  False negatives  True negatives  \n",
       "0            671.0            516.0         20695.0  \n",
       "1            441.0            675.0         20925.0  \n",
       "2            521.0            575.0         20845.0  "
      ]
     },
     "metadata": {},
     "output_type": "display_data"
    }
   ],
   "source": [
    "data_train = {\n",
    "    'Depth': best_depths,\n",
    "    'Accuracy': accuracy_dtree_train, \n",
    "    'Precision': precision_dtree_train,\n",
    "    'Completeness':completeness_dtree_train, \n",
    "    'Contamination': contamination_dtree_train,\n",
    "    'True positives': tp_train_dtree,\n",
    "    'False positives': fp_train_dtree,\n",
    "    'False negatives': fn_train_dtree,\n",
    "    'True negatives': tn_train_dtree,\n",
    "}\n",
    "df_tr = pd.DataFrame(data_train)\n",
    "df_tr = df_tr.round(2)\n",
    "display(Markdown(\"### Results of decision tree classification on train dataset:\"))\n",
    "display(df_tr)\n",
    "\n",
    "data_test = {\n",
    "    'Depth': best_depths,\n",
    "    'Accuracy': accuracy_dtree_test, \n",
    "    'Precision': precision_dtree_test,\n",
    "    'Completeness':completeness_dtree_test, \n",
    "    'Contamination': contamination_dtree_test,\n",
    "    'True positives': tp_test_dtree,\n",
    "    'False positives': fp_test_dtree,\n",
    "    'False negatives': fn_test_dtree,\n",
    "    'True negatives': tn_test_dtree,\n",
    "}\n",
    "df_t_dtree = pd.DataFrame(data_test)\n",
    "df_t_dtree = df_t_dtree.round(2)\n",
    "display(Markdown(\"### Results of decision tree classification on test dataset:\"))\n",
    "display(df_t_dtree)"
   ]
  },
  {
   "cell_type": "markdown",
   "id": "0cde2038-706b-4bfc-9de5-a67b75e278de",
   "metadata": {},
   "source": [
    "In terms of accuracy, precision, completeness and contamaination the results are quiete similar. If we want to find a compromise among them I would choose depth = 8."
   ]
  },
  {
   "cell_type": "markdown",
   "id": "d4ebdf90-3034-4ff6-bcd4-1ab9897d9483",
   "metadata": {},
   "source": [
    "## Bagging keeping the same depth"
   ]
  },
  {
   "cell_type": "code",
   "execution_count": 28,
   "id": "df7ab17b-a539-4044-b27e-b90625a76bea",
   "metadata": {},
   "outputs": [],
   "source": [
    "best_depths=[6, 7, 8]\n",
    "    \n",
    "accuracy_dbag_train = np.empty(3)\n",
    "precision_dbag_train = np.empty(3)\n",
    "completeness_dbag_train = np.empty(3)\n",
    "contamination_dbag_train = np.empty(3)\n",
    "confusion_matrix_train = np.empty(3)\n",
    "tn_train_dbag = np.empty(3) \n",
    "fp_train_dbag = np.empty(3) \n",
    "fn_train_dbag = np.empty(3) \n",
    "tp_train_dbag = np.empty(3)\n",
    "\n",
    "accuracy_dbag_test = np.empty(3)\n",
    "precision_dbag_test = np.empty(3)\n",
    "completeness_dbag_test = np.empty(3)\n",
    "contamination_dbag_test = np.empty(3)\n",
    "confusion_matrix_test = np.empty(3)\n",
    "tn_test_dbag = np.empty(3) \n",
    "fp_test_dbag = np.empty(3) \n",
    "fn_test_dbag = np.empty(3) \n",
    "tp_test_dbag = np.empty(3)\n",
    "\n",
    "for i in range(len(best_depths)):\n",
    "    dbag_clf = BaggingClassifier(DecisionTreeClassifier(max_depth = best_depths[i], random_state=42), n_estimators=500, max_samples=100, bootstrap=True, random_state=42, n_jobs=-1)\n",
    "    dbag_clf.fit(Data_train, Detect_train)\n",
    "    Detect_pred_test = dbag_clf.predict(Data_test)\n",
    "    Detect_pred_train = dbag_clf.predict(Data_train)\n",
    "\n",
    "    accuracy_dbag_test[i] = accuracy_score(Detect_test, Detect_pred_test)\n",
    "    precision_dbag_test[i] = precision_score(Detect_test, Detect_pred_test)\n",
    "    completeness_dbag_test[i] = recall_score(Detect_test, Detect_pred_test)\n",
    "    contamination_dbag_test[i] = 1- precision_score(Detect_test, Detect_pred_test)\n",
    "    conf_matrix_test = confusion_matrix(Detect_test, Detect_pred_test)\n",
    "    tn_test_dbag[i], fp_test_dbag[i], fn_test_dbag[i], tp_test_dbag[i] = conf_matrix_test.ravel()\n",
    "\n",
    "    accuracy_dbag_train[i] = accuracy_score(Detect_train, Detect_pred_train)\n",
    "    precision_dbag_train[i] = precision_score(Detect_train, Detect_pred_train)\n",
    "    completeness_dbag_train[i] = recall_score(Detect_train, Detect_pred_train)\n",
    "    contamination_dbag_train[i] = 1- precision_score(Detect_train, Detect_pred_train)\n",
    "    conf_matrix_train = confusion_matrix(Detect_train, Detect_pred_train)\n",
    "    tn_train_dbag[i], fp_train_dbag[i], fn_train_dbag[i], tp_train_dbag[i] = conf_matrix_train.ravel()"
   ]
  },
  {
   "cell_type": "code",
   "execution_count": 29,
   "id": "d2568e2b-0ca5-4ef8-bbd0-b8152c67c250",
   "metadata": {},
   "outputs": [
    {
     "data": {
      "text/markdown": [
       "### Results of decision tree classification with bagging on train dataset:"
      ],
      "text/plain": [
       "<IPython.core.display.Markdown object>"
      ]
     },
     "metadata": {},
     "output_type": "display_data"
    },
    {
     "data": {
      "text/html": [
       "<div>\n",
       "<style scoped>\n",
       "    .dataframe tbody tr th:only-of-type {\n",
       "        vertical-align: middle;\n",
       "    }\n",
       "\n",
       "    .dataframe tbody tr th {\n",
       "        vertical-align: top;\n",
       "    }\n",
       "\n",
       "    .dataframe thead th {\n",
       "        text-align: right;\n",
       "    }\n",
       "</style>\n",
       "<table border=\"1\" class=\"dataframe\">\n",
       "  <thead>\n",
       "    <tr style=\"text-align: right;\">\n",
       "      <th></th>\n",
       "      <th>Depth</th>\n",
       "      <th>Accuracy</th>\n",
       "      <th>Precision</th>\n",
       "      <th>Completeness</th>\n",
       "      <th>Contamination</th>\n",
       "      <th>True positives</th>\n",
       "      <th>False positives</th>\n",
       "      <th>False negatives</th>\n",
       "      <th>True negatives</th>\n",
       "    </tr>\n",
       "  </thead>\n",
       "  <tbody>\n",
       "    <tr>\n",
       "      <th>0</th>\n",
       "      <td>6</td>\n",
       "      <td>0.94</td>\n",
       "      <td>0.81</td>\n",
       "      <td>0.77</td>\n",
       "      <td>0.19</td>\n",
       "      <td>8226.0</td>\n",
       "      <td>1936.0</td>\n",
       "      <td>2522.0</td>\n",
       "      <td>62316.0</td>\n",
       "    </tr>\n",
       "    <tr>\n",
       "      <th>1</th>\n",
       "      <td>7</td>\n",
       "      <td>0.94</td>\n",
       "      <td>0.81</td>\n",
       "      <td>0.77</td>\n",
       "      <td>0.19</td>\n",
       "      <td>8224.0</td>\n",
       "      <td>1933.0</td>\n",
       "      <td>2524.0</td>\n",
       "      <td>62319.0</td>\n",
       "    </tr>\n",
       "    <tr>\n",
       "      <th>2</th>\n",
       "      <td>8</td>\n",
       "      <td>0.94</td>\n",
       "      <td>0.81</td>\n",
       "      <td>0.77</td>\n",
       "      <td>0.19</td>\n",
       "      <td>8223.0</td>\n",
       "      <td>1932.0</td>\n",
       "      <td>2525.0</td>\n",
       "      <td>62320.0</td>\n",
       "    </tr>\n",
       "  </tbody>\n",
       "</table>\n",
       "</div>"
      ],
      "text/plain": [
       "   Depth  Accuracy  Precision  Completeness  Contamination  True positives  \\\n",
       "0      6      0.94       0.81          0.77           0.19          8226.0   \n",
       "1      7      0.94       0.81          0.77           0.19          8224.0   \n",
       "2      8      0.94       0.81          0.77           0.19          8223.0   \n",
       "\n",
       "   False positives  False negatives  True negatives  \n",
       "0           1936.0           2522.0         62316.0  \n",
       "1           1933.0           2524.0         62319.0  \n",
       "2           1932.0           2525.0         62320.0  "
      ]
     },
     "metadata": {},
     "output_type": "display_data"
    },
    {
     "data": {
      "text/markdown": [
       "### Results of decision tree classification with bagging on test dataset:"
      ],
      "text/plain": [
       "<IPython.core.display.Markdown object>"
      ]
     },
     "metadata": {},
     "output_type": "display_data"
    },
    {
     "data": {
      "text/html": [
       "<div>\n",
       "<style scoped>\n",
       "    .dataframe tbody tr th:only-of-type {\n",
       "        vertical-align: middle;\n",
       "    }\n",
       "\n",
       "    .dataframe tbody tr th {\n",
       "        vertical-align: top;\n",
       "    }\n",
       "\n",
       "    .dataframe thead th {\n",
       "        text-align: right;\n",
       "    }\n",
       "</style>\n",
       "<table border=\"1\" class=\"dataframe\">\n",
       "  <thead>\n",
       "    <tr style=\"text-align: right;\">\n",
       "      <th></th>\n",
       "      <th>Depth</th>\n",
       "      <th>Accuracy</th>\n",
       "      <th>Precision</th>\n",
       "      <th>Completeness</th>\n",
       "      <th>Contamination</th>\n",
       "      <th>True positives</th>\n",
       "      <th>False positives</th>\n",
       "      <th>False negatives</th>\n",
       "      <th>True negatives</th>\n",
       "    </tr>\n",
       "  </thead>\n",
       "  <tbody>\n",
       "    <tr>\n",
       "      <th>0</th>\n",
       "      <td>6</td>\n",
       "      <td>0.94</td>\n",
       "      <td>0.83</td>\n",
       "      <td>0.78</td>\n",
       "      <td>0.17</td>\n",
       "      <td>2839.0</td>\n",
       "      <td>597.0</td>\n",
       "      <td>795.0</td>\n",
       "      <td>20769.0</td>\n",
       "    </tr>\n",
       "    <tr>\n",
       "      <th>1</th>\n",
       "      <td>7</td>\n",
       "      <td>0.94</td>\n",
       "      <td>0.83</td>\n",
       "      <td>0.78</td>\n",
       "      <td>0.17</td>\n",
       "      <td>2839.0</td>\n",
       "      <td>599.0</td>\n",
       "      <td>795.0</td>\n",
       "      <td>20767.0</td>\n",
       "    </tr>\n",
       "    <tr>\n",
       "      <th>2</th>\n",
       "      <td>8</td>\n",
       "      <td>0.94</td>\n",
       "      <td>0.83</td>\n",
       "      <td>0.78</td>\n",
       "      <td>0.17</td>\n",
       "      <td>2837.0</td>\n",
       "      <td>598.0</td>\n",
       "      <td>797.0</td>\n",
       "      <td>20768.0</td>\n",
       "    </tr>\n",
       "  </tbody>\n",
       "</table>\n",
       "</div>"
      ],
      "text/plain": [
       "   Depth  Accuracy  Precision  Completeness  Contamination  True positives  \\\n",
       "0      6      0.94       0.83          0.78           0.17          2839.0   \n",
       "1      7      0.94       0.83          0.78           0.17          2839.0   \n",
       "2      8      0.94       0.83          0.78           0.17          2837.0   \n",
       "\n",
       "   False positives  False negatives  True negatives  \n",
       "0            597.0            795.0         20769.0  \n",
       "1            599.0            795.0         20767.0  \n",
       "2            598.0            797.0         20768.0  "
      ]
     },
     "metadata": {},
     "output_type": "display_data"
    }
   ],
   "source": [
    "data_train = {\n",
    "    'Depth': best_depths,\n",
    "    'Accuracy': accuracy_dbag_train, \n",
    "    'Precision': precision_dbag_train,\n",
    "    'Completeness':completeness_dbag_train, \n",
    "    'Contamination': contamination_dbag_train,\n",
    "    'True positives': tp_train_dbag,\n",
    "    'False positives': fp_train_dbag,\n",
    "    'False negatives': fn_train_dbag,\n",
    "    'True negatives': tn_train_dbag,\n",
    "}\n",
    "df_tr = pd.DataFrame(data_train)\n",
    "df_tr = df_tr.round(2)\n",
    "display(Markdown(\"### Results of decision tree classification with bagging on train dataset:\"))\n",
    "display(df_tr)\n",
    "\n",
    "data_test = {\n",
    "    'Depth': best_depths,\n",
    "    'Accuracy': accuracy_dbag_test, \n",
    "    'Precision': precision_dbag_test,\n",
    "    'Completeness':completeness_dbag_test, \n",
    "    'Contamination': contamination_dbag_test,\n",
    "    'True positives': tp_test_dbag,\n",
    "    'False positives': fp_test_dbag,\n",
    "    'False negatives': fn_test_dbag,\n",
    "    'True negatives': tn_test_dbag,\n",
    "}\n",
    "df_t_dbag = pd.DataFrame(data_test)\n",
    "df_t_dbag = df_t_dbag.round(2)\n",
    "display(Markdown(\"### Results of decision tree classification with bagging on test dataset:\"))\n",
    "display(df_t_dbag)"
   ]
  },
  {
   "cell_type": "markdown",
   "id": "6d60675f-9def-4536-b6e5-489141d80d88",
   "metadata": {},
   "source": [
    "The four depths give us almost identical results using bagging."
   ]
  },
  {
   "cell_type": "markdown",
   "id": "2e120d2c-3935-4d1e-bb93-69e3081db58f",
   "metadata": {},
   "source": [
    "## Random Forest"
   ]
  },
  {
   "cell_type": "code",
   "execution_count": 20,
   "id": "100e3162-f281-48b7-af7b-e643c70c2697",
   "metadata": {},
   "outputs": [
    {
     "name": "stdout",
     "output_type": "stream",
     "text": [
      "best parameter choice: 19\n"
     ]
    }
   ],
   "source": [
    "forest = RandomForestClassifier(criterion='entropy', class_weight='balanced', n_jobs=-1)\n",
    "drange = np.arange(1, 20)  \n",
    "\n",
    "grid = GridSearchCV(forest, param_grid={'max_depth': drange}, cv=5) \n",
    "grid.fit(Data_train, Detect_train)\n",
    "\n",
    "best = grid.best_params_['max_depth']\n",
    "print(\"best parameter choice:\", best)"
   ]
  },
  {
   "cell_type": "code",
   "execution_count": 21,
   "id": "4c80a37e-02bd-42c4-98f4-82e67e8e2057",
   "metadata": {},
   "outputs": [],
   "source": [
    "best_forest = 19\n",
    "forest = RandomForestClassifier(n_estimators=200, max_depth=best_forest, criterion='entropy', n_jobs=-1)\n",
    "forest.fit(Data_train, Detect_train)\n",
    "Detect_pred_test = forest.predict(Data_test)\n",
    "Detect_pred_train = forest.predict(Data_train)\n",
    "\n",
    "accuracy_forest_test = accuracy_score(Detect_test, Detect_pred_test)\n",
    "precision_forest_test = precision_score(Detect_test, Detect_pred_test)\n",
    "completeness_forest_test = recall_score(Detect_test, Detect_pred_test)\n",
    "contamination_forest_test = 1- precision_score(Detect_test, Detect_pred_test)\n",
    "conf_matrix_test = confusion_matrix(Detect_test, Detect_pred_test)\n",
    "tn_test_forest, fp_test_forest, fn_test_forest, tp_test_forest = conf_matrix_test.ravel()\n",
    "\n",
    "accuracy_forest_train = accuracy_score(Detect_train, Detect_pred_train)\n",
    "precision_forest_train = precision_score(Detect_train, Detect_pred_train)\n",
    "completeness_forest_train = recall_score(Detect_train, Detect_pred_train)\n",
    "contamination_forest_train = 1- precision_score(Detect_train, Detect_pred_train)\n",
    "conf_matrix_train = confusion_matrix(Detect_train, Detect_pred_train)\n",
    "tn_train_forest, fp_train_forest, fn_train_forest, tp_train_forest = conf_matrix_train.ravel()"
   ]
  },
  {
   "cell_type": "code",
   "execution_count": 22,
   "id": "aa099a28-8796-4917-a4f4-0e4f06e2281b",
   "metadata": {},
   "outputs": [
    {
     "data": {
      "text/markdown": [
       "### Results of Random forest on train dataset:"
      ],
      "text/plain": [
       "<IPython.core.display.Markdown object>"
      ]
     },
     "metadata": {},
     "output_type": "display_data"
    },
    {
     "data": {
      "text/html": [
       "<div>\n",
       "<style scoped>\n",
       "    .dataframe tbody tr th:only-of-type {\n",
       "        vertical-align: middle;\n",
       "    }\n",
       "\n",
       "    .dataframe tbody tr th {\n",
       "        vertical-align: top;\n",
       "    }\n",
       "\n",
       "    .dataframe thead th {\n",
       "        text-align: right;\n",
       "    }\n",
       "</style>\n",
       "<table border=\"1\" class=\"dataframe\">\n",
       "  <thead>\n",
       "    <tr style=\"text-align: right;\">\n",
       "      <th></th>\n",
       "      <th>Depth</th>\n",
       "      <th>Accuracy</th>\n",
       "      <th>Precision</th>\n",
       "      <th>Completeness</th>\n",
       "      <th>Contamination</th>\n",
       "      <th>True positives</th>\n",
       "      <th>False positives</th>\n",
       "      <th>False negatives</th>\n",
       "      <th>True negatives</th>\n",
       "    </tr>\n",
       "  </thead>\n",
       "  <tbody>\n",
       "    <tr>\n",
       "      <th>0</th>\n",
       "      <td>19</td>\n",
       "      <td>1.0</td>\n",
       "      <td>1.0</td>\n",
       "      <td>1.0</td>\n",
       "      <td>0.0</td>\n",
       "      <td>10737</td>\n",
       "      <td>14</td>\n",
       "      <td>11</td>\n",
       "      <td>64238</td>\n",
       "    </tr>\n",
       "  </tbody>\n",
       "</table>\n",
       "</div>"
      ],
      "text/plain": [
       "   Depth  Accuracy  Precision  Completeness  Contamination  True positives  \\\n",
       "0     19       1.0        1.0           1.0            0.0           10737   \n",
       "\n",
       "   False positives  False negatives  True negatives  \n",
       "0               14               11           64238  "
      ]
     },
     "metadata": {},
     "output_type": "display_data"
    },
    {
     "data": {
      "text/markdown": [
       "### Results of Random Forest on test dataset:"
      ],
      "text/plain": [
       "<IPython.core.display.Markdown object>"
      ]
     },
     "metadata": {},
     "output_type": "display_data"
    },
    {
     "data": {
      "text/html": [
       "<div>\n",
       "<style scoped>\n",
       "    .dataframe tbody tr th:only-of-type {\n",
       "        vertical-align: middle;\n",
       "    }\n",
       "\n",
       "    .dataframe tbody tr th {\n",
       "        vertical-align: top;\n",
       "    }\n",
       "\n",
       "    .dataframe thead th {\n",
       "        text-align: right;\n",
       "    }\n",
       "</style>\n",
       "<table border=\"1\" class=\"dataframe\">\n",
       "  <thead>\n",
       "    <tr style=\"text-align: right;\">\n",
       "      <th></th>\n",
       "      <th>Detph</th>\n",
       "      <th>Accuracy</th>\n",
       "      <th>Precision</th>\n",
       "      <th>Completeness</th>\n",
       "      <th>Contamination</th>\n",
       "      <th>True positives</th>\n",
       "      <th>False positives</th>\n",
       "      <th>False negatives</th>\n",
       "      <th>True negatives</th>\n",
       "    </tr>\n",
       "  </thead>\n",
       "  <tbody>\n",
       "    <tr>\n",
       "      <th>0</th>\n",
       "      <td>19</td>\n",
       "      <td>0.97</td>\n",
       "      <td>0.91</td>\n",
       "      <td>0.86</td>\n",
       "      <td>0.09</td>\n",
       "      <td>3117</td>\n",
       "      <td>305</td>\n",
       "      <td>517</td>\n",
       "      <td>21061</td>\n",
       "    </tr>\n",
       "  </tbody>\n",
       "</table>\n",
       "</div>"
      ],
      "text/plain": [
       "   Detph  Accuracy  Precision  Completeness  Contamination  True positives  \\\n",
       "0     19      0.97       0.91          0.86           0.09            3117   \n",
       "\n",
       "   False positives  False negatives  True negatives  \n",
       "0              305              517           21061  "
      ]
     },
     "metadata": {},
     "output_type": "display_data"
    }
   ],
   "source": [
    "data_train = {\n",
    "    'Depth': [best_forest],\n",
    "    'Accuracy': [accuracy_forest_train], \n",
    "    'Precision': [precision_forest_train],\n",
    "    'Completeness':[completeness_forest_train], \n",
    "    'Contamination': [contamination_forest_train],\n",
    "    'True positives': [tp_train_forest],\n",
    "    'False positives': [fp_train_forest],\n",
    "    'False negatives': [fn_train_forest],\n",
    "    'True negatives': [tn_train_forest],\n",
    "}\n",
    "df_tr = pd.DataFrame(data_train)\n",
    "df_tr = df_tr.round(2)\n",
    "display(Markdown(\"### Results of Random forest on train dataset:\"))\n",
    "display(df_tr)\n",
    "\n",
    "data_test = {\n",
    "    'Detph': [best_forest],\n",
    "    'Accuracy': accuracy_forest_test, \n",
    "    'Precision': precision_forest_test,\n",
    "    'Completeness':completeness_forest_test, \n",
    "    'Contamination': contamination_forest_test,\n",
    "    'True positives': tp_test_forest,\n",
    "    'False positives': fp_test_forest,\n",
    "    'False negatives': fn_test_forest,\n",
    "    'True negatives': tn_test_forest,\n",
    "}\n",
    "df_t_forest = pd.DataFrame(data_test)\n",
    "df_t_forest = df_t_forest.round(2)\n",
    "display(Markdown(\"### Results of Random Forest on test dataset:\"))\n",
    "display(df_t_forest)"
   ]
  },
  {
   "cell_type": "markdown",
   "id": "1b216b02-7a1b-4a11-86f8-0d43c7c40f22",
   "metadata": {},
   "source": [
    "## Results so far"
   ]
  },
  {
   "cell_type": "code",
   "execution_count": 30,
   "id": "e80a3b64-1871-400e-a70f-74fa158a8c7d",
   "metadata": {},
   "outputs": [
    {
     "data": {
      "text/markdown": [
       "### Results of decision tree classification on test dataset:"
      ],
      "text/plain": [
       "<IPython.core.display.Markdown object>"
      ]
     },
     "metadata": {},
     "output_type": "display_data"
    },
    {
     "data": {
      "text/html": [
       "<div>\n",
       "<style scoped>\n",
       "    .dataframe tbody tr th:only-of-type {\n",
       "        vertical-align: middle;\n",
       "    }\n",
       "\n",
       "    .dataframe tbody tr th {\n",
       "        vertical-align: top;\n",
       "    }\n",
       "\n",
       "    .dataframe thead th {\n",
       "        text-align: right;\n",
       "    }\n",
       "</style>\n",
       "<table border=\"1\" class=\"dataframe\">\n",
       "  <thead>\n",
       "    <tr style=\"text-align: right;\">\n",
       "      <th></th>\n",
       "      <th>Depth</th>\n",
       "      <th>Accuracy</th>\n",
       "      <th>Precision</th>\n",
       "      <th>Completeness</th>\n",
       "      <th>Contamination</th>\n",
       "      <th>True positives</th>\n",
       "      <th>False positives</th>\n",
       "      <th>False negatives</th>\n",
       "      <th>True negatives</th>\n",
       "    </tr>\n",
       "  </thead>\n",
       "  <tbody>\n",
       "    <tr>\n",
       "      <th>0</th>\n",
       "      <td>6</td>\n",
       "      <td>0.95</td>\n",
       "      <td>0.82</td>\n",
       "      <td>0.86</td>\n",
       "      <td>0.18</td>\n",
       "      <td>3118.0</td>\n",
       "      <td>671.0</td>\n",
       "      <td>516.0</td>\n",
       "      <td>20695.0</td>\n",
       "    </tr>\n",
       "    <tr>\n",
       "      <th>1</th>\n",
       "      <td>7</td>\n",
       "      <td>0.96</td>\n",
       "      <td>0.87</td>\n",
       "      <td>0.81</td>\n",
       "      <td>0.13</td>\n",
       "      <td>2959.0</td>\n",
       "      <td>441.0</td>\n",
       "      <td>675.0</td>\n",
       "      <td>20925.0</td>\n",
       "    </tr>\n",
       "    <tr>\n",
       "      <th>2</th>\n",
       "      <td>8</td>\n",
       "      <td>0.96</td>\n",
       "      <td>0.85</td>\n",
       "      <td>0.84</td>\n",
       "      <td>0.15</td>\n",
       "      <td>3059.0</td>\n",
       "      <td>521.0</td>\n",
       "      <td>575.0</td>\n",
       "      <td>20845.0</td>\n",
       "    </tr>\n",
       "  </tbody>\n",
       "</table>\n",
       "</div>"
      ],
      "text/plain": [
       "   Depth  Accuracy  Precision  Completeness  Contamination  True positives  \\\n",
       "0      6      0.95       0.82          0.86           0.18          3118.0   \n",
       "1      7      0.96       0.87          0.81           0.13          2959.0   \n",
       "2      8      0.96       0.85          0.84           0.15          3059.0   \n",
       "\n",
       "   False positives  False negatives  True negatives  \n",
       "0            671.0            516.0         20695.0  \n",
       "1            441.0            675.0         20925.0  \n",
       "2            521.0            575.0         20845.0  "
      ]
     },
     "metadata": {},
     "output_type": "display_data"
    },
    {
     "data": {
      "text/markdown": [
       "### Results of decision tree classification with bagging on test dataset:"
      ],
      "text/plain": [
       "<IPython.core.display.Markdown object>"
      ]
     },
     "metadata": {},
     "output_type": "display_data"
    },
    {
     "data": {
      "text/html": [
       "<div>\n",
       "<style scoped>\n",
       "    .dataframe tbody tr th:only-of-type {\n",
       "        vertical-align: middle;\n",
       "    }\n",
       "\n",
       "    .dataframe tbody tr th {\n",
       "        vertical-align: top;\n",
       "    }\n",
       "\n",
       "    .dataframe thead th {\n",
       "        text-align: right;\n",
       "    }\n",
       "</style>\n",
       "<table border=\"1\" class=\"dataframe\">\n",
       "  <thead>\n",
       "    <tr style=\"text-align: right;\">\n",
       "      <th></th>\n",
       "      <th>Depth</th>\n",
       "      <th>Accuracy</th>\n",
       "      <th>Precision</th>\n",
       "      <th>Completeness</th>\n",
       "      <th>Contamination</th>\n",
       "      <th>True positives</th>\n",
       "      <th>False positives</th>\n",
       "      <th>False negatives</th>\n",
       "      <th>True negatives</th>\n",
       "    </tr>\n",
       "  </thead>\n",
       "  <tbody>\n",
       "    <tr>\n",
       "      <th>0</th>\n",
       "      <td>6</td>\n",
       "      <td>0.94</td>\n",
       "      <td>0.83</td>\n",
       "      <td>0.78</td>\n",
       "      <td>0.17</td>\n",
       "      <td>2839.0</td>\n",
       "      <td>597.0</td>\n",
       "      <td>795.0</td>\n",
       "      <td>20769.0</td>\n",
       "    </tr>\n",
       "    <tr>\n",
       "      <th>1</th>\n",
       "      <td>7</td>\n",
       "      <td>0.94</td>\n",
       "      <td>0.83</td>\n",
       "      <td>0.78</td>\n",
       "      <td>0.17</td>\n",
       "      <td>2839.0</td>\n",
       "      <td>599.0</td>\n",
       "      <td>795.0</td>\n",
       "      <td>20767.0</td>\n",
       "    </tr>\n",
       "    <tr>\n",
       "      <th>2</th>\n",
       "      <td>8</td>\n",
       "      <td>0.94</td>\n",
       "      <td>0.83</td>\n",
       "      <td>0.78</td>\n",
       "      <td>0.17</td>\n",
       "      <td>2837.0</td>\n",
       "      <td>598.0</td>\n",
       "      <td>797.0</td>\n",
       "      <td>20768.0</td>\n",
       "    </tr>\n",
       "  </tbody>\n",
       "</table>\n",
       "</div>"
      ],
      "text/plain": [
       "   Depth  Accuracy  Precision  Completeness  Contamination  True positives  \\\n",
       "0      6      0.94       0.83          0.78           0.17          2839.0   \n",
       "1      7      0.94       0.83          0.78           0.17          2839.0   \n",
       "2      8      0.94       0.83          0.78           0.17          2837.0   \n",
       "\n",
       "   False positives  False negatives  True negatives  \n",
       "0            597.0            795.0         20769.0  \n",
       "1            599.0            795.0         20767.0  \n",
       "2            598.0            797.0         20768.0  "
      ]
     },
     "metadata": {},
     "output_type": "display_data"
    },
    {
     "data": {
      "text/markdown": [
       "### Results of Random Forest on test dataset:"
      ],
      "text/plain": [
       "<IPython.core.display.Markdown object>"
      ]
     },
     "metadata": {},
     "output_type": "display_data"
    },
    {
     "data": {
      "text/html": [
       "<div>\n",
       "<style scoped>\n",
       "    .dataframe tbody tr th:only-of-type {\n",
       "        vertical-align: middle;\n",
       "    }\n",
       "\n",
       "    .dataframe tbody tr th {\n",
       "        vertical-align: top;\n",
       "    }\n",
       "\n",
       "    .dataframe thead th {\n",
       "        text-align: right;\n",
       "    }\n",
       "</style>\n",
       "<table border=\"1\" class=\"dataframe\">\n",
       "  <thead>\n",
       "    <tr style=\"text-align: right;\">\n",
       "      <th></th>\n",
       "      <th>Detph</th>\n",
       "      <th>Accuracy</th>\n",
       "      <th>Precision</th>\n",
       "      <th>Completeness</th>\n",
       "      <th>Contamination</th>\n",
       "      <th>True positives</th>\n",
       "      <th>False positives</th>\n",
       "      <th>False negatives</th>\n",
       "      <th>True negatives</th>\n",
       "    </tr>\n",
       "  </thead>\n",
       "  <tbody>\n",
       "    <tr>\n",
       "      <th>0</th>\n",
       "      <td>19</td>\n",
       "      <td>0.97</td>\n",
       "      <td>0.91</td>\n",
       "      <td>0.86</td>\n",
       "      <td>0.09</td>\n",
       "      <td>3117</td>\n",
       "      <td>305</td>\n",
       "      <td>517</td>\n",
       "      <td>21061</td>\n",
       "    </tr>\n",
       "  </tbody>\n",
       "</table>\n",
       "</div>"
      ],
      "text/plain": [
       "   Detph  Accuracy  Precision  Completeness  Contamination  True positives  \\\n",
       "0     19      0.97       0.91          0.86           0.09            3117   \n",
       "\n",
       "   False positives  False negatives  True negatives  \n",
       "0              305              517           21061  "
      ]
     },
     "metadata": {},
     "output_type": "display_data"
    }
   ],
   "source": [
    "display(Markdown(\"### Results of decision tree classification on test dataset:\"))\n",
    "display(df_t_dtree)\n",
    "\n",
    "display(Markdown(\"### Results of decision tree classification with bagging on test dataset:\"))\n",
    "display(df_t_dbag)\n",
    "\n",
    "display(Markdown(\"### Results of Random Forest on test dataset:\"))\n",
    "display(df_t_forest)"
   ]
  },
  {
   "cell_type": "markdown",
   "id": "8634410b-2918-42df-8316-2e518b5e2860",
   "metadata": {},
   "source": [
    "The best method if we look at everything is the Random Forest classifier."
   ]
  },
  {
   "cell_type": "code",
   "execution_count": null,
   "id": "d6075cfb-053e-49da-9239-5493f9e0aa06",
   "metadata": {},
   "outputs": [],
   "source": []
  }
 ],
 "metadata": {
  "kernelspec": {
   "display_name": "Python 3 (ipykernel)",
   "language": "python",
   "name": "python3"
  },
  "language_info": {
   "codemirror_mode": {
    "name": "ipython",
    "version": 3
   },
   "file_extension": ".py",
   "mimetype": "text/x-python",
   "name": "python",
   "nbconvert_exporter": "python",
   "pygments_lexer": "ipython3",
   "version": "3.11.5"
  }
 },
 "nbformat": 4,
 "nbformat_minor": 5
}
